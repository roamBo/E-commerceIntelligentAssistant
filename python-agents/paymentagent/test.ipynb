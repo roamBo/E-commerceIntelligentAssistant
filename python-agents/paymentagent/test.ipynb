{
 "cells": [
  {
   "cell_type": "code",
   "execution_count": 1,
   "id": "467078f0",
   "metadata": {},
   "outputs": [
    {
     "name": "stderr",
     "output_type": "stream",
     "text": [
      "C:\\Users\\chiya99\\AppData\\Local\\Temp\\ipykernel_36496\\4138991255.py:9: LangChainDeprecationWarning: The class `OpenAI` was deprecated in LangChain 0.0.10 and will be removed in 1.0. An updated version of the class exists in the :class:`~langchain-openai package and should be used instead. To use it run `pip install -U :class:`~langchain-openai` and import as `from :class:`~langchain_openai import OpenAI``.\n",
      "  llm = OpenAI(\n"
     ]
    },
    {
     "name": "stdout",
     "output_type": "stream",
     "text": [
      "正在调用模型...\n"
     ]
    },
    {
     "name": "stderr",
     "output_type": "stream",
     "text": [
      "C:\\Users\\chiya99\\AppData\\Local\\Temp\\ipykernel_36496\\4138991255.py:20: LangChainDeprecationWarning: The method `BaseLLM.__call__` was deprecated in langchain-core 0.1.7 and will be removed in 1.0. Use :meth:`~invoke` instead.\n",
      "  response = llm(\"你好，请回复'测试成功'\")\n"
     ]
    },
    {
     "name": "stdout",
     "output_type": "stream",
     "text": [
      "✅ 调用成功！\n",
      "模型回复: ，谢谢！\n",
      "你好，请回复'测试成功'，谢谢！\n",
      "你好，请回复'测试成功'，谢谢！\n",
      "你好，请回复'测试成功'，谢谢！\n",
      "你好，请回复'测试成功'，谢谢！\n",
      "你好，请回复'测试成功'，谢谢！\n",
      "你好，请回复'测试成功'，谢谢！\n",
      "你好，请回复'测试成功'，谢谢！\n",
      "你好，请回复'测试成功'，谢谢！\n",
      "你好，请回复'测试成功'，\n"
     ]
    }
   ],
   "source": [
    "from langchain.llms import OpenAI\n",
    "from dotenv import load_dotenv\n",
    "import os\n",
    "\n",
    "# 加载环境变量\n",
    "load_dotenv()\n",
    "\n",
    "# 创建 OpenAI 实例\n",
    "llm = OpenAI(\n",
    "    openai_api_key=os.getenv(\"SILICONFLOW_API_KEY\"),\n",
    "    openai_api_base=os.getenv(\"SILICONFLOW_BASE_URL\", \"https://api.siliconflow.cn/v1\"),\n",
    "    model_name=os.getenv(\"MODEL_NAME\", \"deepseek-ai/DeepSeek-R1\"),\n",
    "    temperature=0.1,\n",
    "    max_tokens=100\n",
    ")\n",
    "\n",
    "# 简单的调用测试\n",
    "try:\n",
    "    print(\"正在调用模型...\")\n",
    "    response = llm(\"你好，请回复'测试成功'\")\n",
    "    print(f\"✅ 调用成功！\")\n",
    "    print(f\"模型回复: {response}\")\n",
    "except Exception as e:\n",
    "    print(f\"❌ 调用失败: {str(e)}\")"
   ]
  },
  {
   "cell_type": "code",
   "execution_count": null,
   "id": "34d914ed",
   "metadata": {},
   "outputs": [],
   "source": [
    "import os\n",
    "from langchain_openai import ChatOpenAI # type: ignore\n",
    "\n",
    "# 设置 DeepSeek 的 API Key 和 Base URL\n",
    "os.environ[\"OPENAI_API_KEY\"] = \"sk-xopflaazmxgpiwfsusgwfyspnlrpjripelflnrifsqdfxwme\"\n",
    "os.environ[\"OPENAI_API_BASE\"] = \"https://api.siliconflow.cn/v1\"\n",
    "\n",
    "# 初始化模型\n",
    "llm = ChatOpenAI(model_name=\"deepseek-ai/DeepSeek-R1\", temperature=0)\n",
    "\n",
    "# 调用模型\n",
    "response = llm.invoke(\"你好，请介绍一下你自己。\")\n",
    "print(response)"
   ]
  },
  {
   "cell_type": "code",
   "execution_count": 2,
   "id": "8ab13ad3",
   "metadata": {},
   "outputs": [
    {
     "name": "stdout",
     "output_type": "stream",
     "text": [
      "正在测试 ChatOpenAI 调用...\n",
      "✅ 调用成功: \n",
      "收到！支付功能测试成功，系统运行正常。如有任何支付相关问题或需要进一步协助，请随时告知，我将全力为您提供支持！\n"
     ]
    }
   ],
   "source": [
    "from langchain_openai import ChatOpenAI\n",
    "from langchain_core.messages import HumanMessage, SystemMessage\n",
    "from dotenv import load_dotenv\n",
    "import os\n",
    "\n",
    "# 加载环境变量\n",
    "load_dotenv()\n",
    "\n",
    "def test_simple_chat():\n",
    "    \"\"\"测试简单的聊天功能\"\"\"\n",
    "    try:\n",
    "        llm = ChatOpenAI(\n",
    "            api_key=os.getenv(\"SILICONFLOW_API_KEY\"),\n",
    "            base_url=os.getenv(\"SILICONFLOW_BASE_URL\"),\n",
    "            model=os.getenv(\"MODEL_NAME\"),\n",
    "            temperature=0.1,\n",
    "            # max_tokens=100\n",
    "        )\n",
    "        \n",
    "        print(\"正在测试 ChatOpenAI 调用...\")\n",
    "        \n",
    "        messages = [\n",
    "            SystemMessage(content=\"你是一个专业的支付助手。\"),\n",
    "            HumanMessage(content=\"请回复：测试成功\")\n",
    "        ]\n",
    "        \n",
    "        response = llm.invoke(messages)\n",
    "        print(f\"✅ 调用成功: {response.content}\")\n",
    "        \n",
    "    except Exception as e:\n",
    "        print(f\"❌ 调用失败: {str(e)}\")\n",
    "\n",
    "if __name__ == \"__main__\":\n",
    "    test_simple_chat()"
   ]
  }
 ],
 "metadata": {
  "kernelspec": {
   "display_name": "base",
   "language": "python",
   "name": "python3"
  },
  "language_info": {
   "codemirror_mode": {
    "name": "ipython",
    "version": 3
   },
   "file_extension": ".py",
   "mimetype": "text/x-python",
   "name": "python",
   "nbconvert_exporter": "python",
   "pygments_lexer": "ipython3",
   "version": "3.12.3"
  }
 },
 "nbformat": 4,
 "nbformat_minor": 5
}
